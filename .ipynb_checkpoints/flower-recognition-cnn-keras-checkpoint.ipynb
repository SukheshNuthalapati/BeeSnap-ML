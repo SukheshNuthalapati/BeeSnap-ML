{
 "cells": [
  {
   "cell_type": "markdown",
   "metadata": {
    "_uuid": "bca889c929920fd204e28dd8ba3bf747abfe4866"
   },
   "source": [
    "# Flower Recognition CNN Keras"
   ]
  },
  {
   "cell_type": "markdown",
   "metadata": {
    "_uuid": "09fd28ff8553edff4c6d1648488b1c260a90d017"
   },
   "source": [
    "## [ Please upvote / star if you like it ;)  ]"
   ]
  },
  {
   "cell_type": "code",
   "execution_count": null,
   "metadata": {
    "_uuid": "d7a7312aab77334d4ecc34d0e64fd057733caf04"
   },
   "outputs": [],
   "source": [
    "import os\n",
    "print(os.listdir('../input/flowers/flowers'))"
   ]
  },
  {
   "cell_type": "code",
   "execution_count": null,
   "metadata": {
    "_uuid": "ed5ad155cf9e33cb85db4f93adaab5cdea950c18"
   },
   "outputs": [],
   "source": []
  },
  {
   "cell_type": "markdown",
   "metadata": {
    "_uuid": "1c178c2e36286c15411205c1f0b8ad603e9435c2"
   },
   "source": [
    "## CONTENTS ::"
   ]
  },
  {
   "cell_type": "markdown",
   "metadata": {
    "_uuid": "98bd9332124df7df3b27447a926e433022d9c3c7"
   },
   "source": [
    "[ **1 ) Importing Various Modules**](#content1)"
   ]
  },
  {
   "cell_type": "markdown",
   "metadata": {
    "_uuid": "7fcd7dde6c712afa3f833320ff7638addb5c6a72"
   },
   "source": [
    "[ **2 ) Preparing the Data**](#content2)"
   ]
  },
  {
   "cell_type": "markdown",
   "metadata": {
    "_uuid": "17605176a5dbee7a8d0e9f2bc7c9a9fd0ebd37b1"
   },
   "source": [
    "[ **3 ) Modelling**](#content3)"
   ]
  },
  {
   "cell_type": "markdown",
   "metadata": {
    "_uuid": "cd37b03966854cb4f4576ed34b99e4acd02c8b3f"
   },
   "source": [
    "[ **4 ) Evaluating the Model Performance**](#content4)"
   ]
  },
  {
   "cell_type": "markdown",
   "metadata": {
    "_uuid": "aa9ea4880c24212ada420bb3e1db87022a89cb1b"
   },
   "source": [
    "[ **5 ) Visualizing Predictons on the Validation Set**](#content5)"
   ]
  },
  {
   "cell_type": "markdown",
   "metadata": {
    "_uuid": "912d0c6d4270e327581d5de683c34969c75397d2"
   },
   "source": []
  },
  {
   "cell_type": "markdown",
   "metadata": {
    "_uuid": "892a9fe20cb70273b84d120b69e8d8cef65c7e80"
   },
   "source": [
    "<a id=\"content1\"></a>\n",
    "## 1 ) Importing Various Modules."
   ]
  },
  {
   "cell_type": "code",
   "execution_count": null,
   "metadata": {
    "_uuid": "743b574dc8902f9376b0293208139192ed5717d1",
    "colab": {
     "base_uri": "https://localhost:8080/",
     "height": 34
    },
    "colab_type": "code",
    "id": "z19bVm7o9zeu",
    "outputId": "e6607658-c349-4b88-b29b-bf08b229daa7"
   },
   "outputs": [],
   "source": [
    "# Ignore  the warnings\n",
    "import warnings\n",
    "warnings.filterwarnings('always')\n",
    "warnings.filterwarnings('ignore')\n",
    "\n",
    "# data visualisation and manipulation\n",
    "import numpy as np\n",
    "import pandas as pd\n",
    "import matplotlib.pyplot as plt\n",
    "from matplotlib import style\n",
    "import seaborn as sns\n",
    " \n",
    "#configure\n",
    "# sets matplotlib to inline and displays graphs below the corressponding cell.\n",
    "%matplotlib inline  \n",
    "style.use('fivethirtyeight')\n",
    "sns.set(style='whitegrid',color_codes=True)\n",
    "\n",
    "#model selection\n",
    "from sklearn.model_selection import train_test_split\n",
    "from sklearn.model_selection import KFold\n",
    "from sklearn.metrics import accuracy_score,precision_score,recall_score,confusion_matrix,roc_curve,roc_auc_score\n",
    "from sklearn.model_selection import GridSearchCV\n",
    "from sklearn.preprocessing import LabelEncoder\n",
    "\n",
    "#preprocess.\n",
    "from keras.preprocessing.image import ImageDataGenerator\n",
    "\n",
    "#dl libraraies\n",
    "from keras import backend as K\n",
    "from keras.models import Sequential\n",
    "from keras.layers import Dense\n",
    "from keras.optimizers import Adam,SGD,Adagrad,Adadelta,RMSprop\n",
    "from keras.utils import to_categorical\n",
    "\n",
    "# specifically for cnn\n",
    "from keras.layers import Dropout, Flatten,Activation\n",
    "from keras.layers import Conv2D, MaxPooling2D, BatchNormalization\n",
    " \n",
    "import tensorflow as tf\n",
    "import random as rn\n",
    "\n",
    "# specifically for manipulating zipped images and getting numpy arrays of pixel values of images.\n",
    "import cv2                  \n",
    "import numpy as np  \n",
    "from tqdm import tqdm\n",
    "import os                   \n",
    "from random import shuffle  \n",
    "from zipfile import ZipFile\n",
    "from PIL import Image"
   ]
  },
  {
   "cell_type": "markdown",
   "metadata": {
    "_uuid": "c24f32b5ef905f9c4df2a020be4419a77c80237e"
   },
   "source": [
    "<a id=\"content2\"></a>\n",
    "## 2 ) Preparing the Data"
   ]
  },
  {
   "cell_type": "markdown",
   "metadata": {
    "_uuid": "f8721fdb61bab5e515c8f5489876a97059a2b94f"
   },
   "source": [
    "## 2.1) Making the functions to get the training and validation set from the Images"
   ]
  },
  {
   "cell_type": "code",
   "execution_count": null,
   "metadata": {
    "_uuid": "54f440d5e3da322372601d59e6224a8fcd89c5f8",
    "colab": {},
    "colab_type": "code",
    "id": "abZS8dPk9ze1"
   },
   "outputs": [],
   "source": [
    "X=[]\n",
    "Z=[]\n",
    "IMG_SIZE=150\n",
    "FLOWER_DAISY_DIR='../input/flowers/flowers/daisy'\n",
    "FLOWER_SUNFLOWER_DIR='../input/flowers/flowers/sunflower'\n",
    "FLOWER_TULIP_DIR='../input/flowers/flowers/tulip'\n",
    "FLOWER_DANDI_DIR='../input/flowers/flowers/dandelion'\n",
    "FLOWER_ROSE_DIR='../input/flowers/flowers/rose'\n"
   ]
  },
  {
   "cell_type": "code",
   "execution_count": null,
   "metadata": {
    "_uuid": "73a92819956d2358999ca2233854712849a746d0",
    "colab": {},
    "colab_type": "code",
    "id": "2qPgwo1d9ze4"
   },
   "outputs": [],
   "source": [
    "def assign_label(img,flower_type):\n",
    "    return flower_type\n",
    "    "
   ]
  },
  {
   "cell_type": "code",
   "execution_count": null,
   "metadata": {
    "_uuid": "6392aebe4fd42ff52460f249ca442626c0af69b7",
    "colab": {},
    "colab_type": "code",
    "id": "vlY8PywM9ze7"
   },
   "outputs": [],
   "source": [
    "def make_train_data(flower_type,DIR):\n",
    "    for img in tqdm(os.listdir(DIR)):\n",
    "        label=assign_label(img,flower_type)\n",
    "        path = os.path.join(DIR,img)\n",
    "        img = cv2.imread(path,cv2.IMREAD_COLOR)\n",
    "        img = cv2.resize(img, (IMG_SIZE,IMG_SIZE))\n",
    "        \n",
    "        X.append(np.array(img))\n",
    "        Z.append(str(label))\n",
    "        \n",
    "        \n",
    "        "
   ]
  },
  {
   "cell_type": "code",
   "execution_count": null,
   "metadata": {
    "_uuid": "46034734b447b127ce033705f44a01e7806a8990",
    "colab": {
     "base_uri": "https://localhost:8080/",
     "height": 51
    },
    "colab_type": "code",
    "id": "9hn_RjL29ze_",
    "outputId": "40853035-6f1c-4bf4-b2f1-708e7269d2de"
   },
   "outputs": [],
   "source": [
    "make_train_data('Daisy',FLOWER_DAISY_DIR)\n",
    "print(len(X))"
   ]
  },
  {
   "cell_type": "code",
   "execution_count": null,
   "metadata": {
    "_uuid": "1909dd2bc123cec910d8214898129ab8b622e62f",
    "colab": {
     "base_uri": "https://localhost:8080/",
     "height": 51
    },
    "colab_type": "code",
    "id": "6XZpRkLK9zfC",
    "outputId": "2a95e409-446f-47e7-8856-686520e5dc05"
   },
   "outputs": [],
   "source": [
    "make_train_data('Sunflower',FLOWER_SUNFLOWER_DIR)\n",
    "print(len(X))"
   ]
  },
  {
   "cell_type": "code",
   "execution_count": null,
   "metadata": {
    "_uuid": "5f65e9627dc53b8cb245bc3babd0ab99a7ad3fd2",
    "colab": {
     "base_uri": "https://localhost:8080/",
     "height": 51
    },
    "colab_type": "code",
    "id": "YvJMmnNx9zfH",
    "outputId": "d0b62619-ed0e-4581-a143-64e48c0bad4e"
   },
   "outputs": [],
   "source": [
    "make_train_data('Tulip',FLOWER_TULIP_DIR)\n",
    "print(len(X))"
   ]
  },
  {
   "cell_type": "code",
   "execution_count": null,
   "metadata": {
    "_uuid": "fef985e030d09df0762031cd2ec4b009a1f7711a",
    "colab": {
     "base_uri": "https://localhost:8080/",
     "height": 51
    },
    "colab_type": "code",
    "id": "KgYj8x-H9zfL",
    "outputId": "0b132777-9fc4-4197-88e3-0facfea80a99"
   },
   "outputs": [],
   "source": [
    "make_train_data('Dandelion',FLOWER_DANDI_DIR)\n",
    "print(len(X))"
   ]
  },
  {
   "cell_type": "code",
   "execution_count": null,
   "metadata": {
    "_uuid": "96a7e6070fe5a74624eeb12a86f609480e158cd1",
    "colab": {
     "base_uri": "https://localhost:8080/",
     "height": 51
    },
    "colab_type": "code",
    "id": "3mtQH6Vg9zfQ",
    "outputId": "50f204ba-53ab-49ee-aa75-b2bf62e2bcd2"
   },
   "outputs": [],
   "source": [
    "make_train_data('Rose',FLOWER_ROSE_DIR)\n",
    "print(len(X))"
   ]
  },
  {
   "cell_type": "markdown",
   "metadata": {
    "_uuid": "30f46a96158710351f4ccb4e0103c71404f58e7d"
   },
   "source": [
    "## 2.2 ) Visualizing some Random Images"
   ]
  },
  {
   "cell_type": "code",
   "execution_count": null,
   "metadata": {
    "_uuid": "a27c478fcac8675aadd40f96fd144a805475b681",
    "colab": {
     "base_uri": "https://localhost:8080/",
     "height": 1085
    },
    "colab_type": "code",
    "id": "gPolpADLYv9p",
    "outputId": "053ef570-56b3-4907-ea47-36b0312dbfb1"
   },
   "outputs": [],
   "source": [
    "fig,ax=plt.subplots(5,2)\n",
    "fig.set_size_inches(15,15)\n",
    "for i in range(5):\n",
    "    for j in range (2):\n",
    "        l=rn.randint(0,len(Z))\n",
    "        ax[i,j].imshow(X[l])\n",
    "        ax[i,j].set_title('Flower: '+Z[l])\n",
    "        \n",
    "plt.tight_layout()\n",
    "        "
   ]
  },
  {
   "cell_type": "markdown",
   "metadata": {
    "_uuid": "77ec9e39e572f004918ea99a6866ee3a06c68324"
   },
   "source": [
    "## 2.3 ) Label Encoding the Y array (i.e. Daisy->0, Rose->1 etc...) & then One Hot Encoding"
   ]
  },
  {
   "cell_type": "code",
   "execution_count": null,
   "metadata": {
    "_uuid": "46155da810657d35899fedf3f055a0cf3f04ec6e",
    "colab": {},
    "colab_type": "code",
    "id": "_Gug0CHU9zfe"
   },
   "outputs": [],
   "source": [
    "le=LabelEncoder()\n",
    "Y=le.fit_transform(Z)\n",
    "Y=to_categorical(Y,5)\n",
    "X=np.array(X)\n",
    "X=X/255"
   ]
  },
  {
   "cell_type": "markdown",
   "metadata": {
    "_uuid": "901fb55ff34f9e6cc2f35538e7814d53cf31a086"
   },
   "source": [
    "## 2.4 ) Splitting into Training and Validation Sets"
   ]
  },
  {
   "cell_type": "code",
   "execution_count": null,
   "metadata": {
    "_uuid": "75d23f1232fc974cb4a3dc1b966864bea390e184",
    "colab": {},
    "colab_type": "code",
    "id": "4xogXfvm9zfg"
   },
   "outputs": [],
   "source": [
    "x_train,x_test,y_train,y_test=train_test_split(X,Y,test_size=0.25,random_state=42)\n"
   ]
  },
  {
   "cell_type": "markdown",
   "metadata": {
    "_uuid": "3af24fc59f0a9dce04862dff2e43f9d20fa996d3"
   },
   "source": [
    "## 2.5 ) Setting the Random Seeds"
   ]
  },
  {
   "cell_type": "code",
   "execution_count": null,
   "metadata": {
    "_uuid": "8e7d1b9c980f79d1955b6686963854e8b7151d3c",
    "colab": {},
    "colab_type": "code",
    "id": "S_nM3vLf9zfj"
   },
   "outputs": [],
   "source": [
    "np.random.seed(42)\n",
    "rn.seed(42)\n",
    "tf.set_random_seed(42)"
   ]
  },
  {
   "cell_type": "code",
   "execution_count": null,
   "metadata": {
    "_uuid": "8bce257283715279bf531de0b940a9280cd52373"
   },
   "outputs": [],
   "source": []
  },
  {
   "cell_type": "markdown",
   "metadata": {
    "_uuid": "f543b578e003e334416835db76b61c21a3391ba1"
   },
   "source": [
    "<a id=\"content3\"></a>\n",
    "## 3 ) Modelling"
   ]
  },
  {
   "cell_type": "markdown",
   "metadata": {
    "_uuid": "7993c26fee12209d0fe31f0f034c7328b81571fc"
   },
   "source": [
    "## 3.1 ) Building the ConvNet Model"
   ]
  },
  {
   "cell_type": "code",
   "execution_count": null,
   "metadata": {
    "_uuid": "01ac04f51fd20947335ec6aced2fd9828debe945",
    "colab": {},
    "colab_type": "code",
    "id": "2a2cTLEt9zfm"
   },
   "outputs": [],
   "source": [
    "# # modelling starts using a CNN.\n",
    "\n",
    "model = Sequential()\n",
    "model.add(Conv2D(filters = 32, kernel_size = (5,5),padding = 'Same',activation ='relu', input_shape = (150,150,3)))\n",
    "model.add(MaxPooling2D(pool_size=(2,2)))\n",
    "\n",
    "\n",
    "model.add(Conv2D(filters = 64, kernel_size = (3,3),padding = 'Same',activation ='relu'))\n",
    "model.add(MaxPooling2D(pool_size=(2,2), strides=(2,2)))\n",
    " \n",
    "\n",
    "model.add(Conv2D(filters =96, kernel_size = (3,3),padding = 'Same',activation ='relu'))\n",
    "model.add(MaxPooling2D(pool_size=(2,2), strides=(2,2)))\n",
    "\n",
    "model.add(Conv2D(filters = 96, kernel_size = (3,3),padding = 'Same',activation ='relu'))\n",
    "model.add(MaxPooling2D(pool_size=(2,2), strides=(2,2)))\n",
    "\n",
    "model.add(Flatten())\n",
    "model.add(Dense(512))\n",
    "model.add(Activation('relu'))\n",
    "model.add(Dense(5, activation = \"softmax\"))"
   ]
  },
  {
   "cell_type": "markdown",
   "metadata": {
    "_uuid": "2e75515599edc31ca8c8e4299ea62d259fd6c788"
   },
   "source": [
    "## 3.2 ) Using a LR Annealer"
   ]
  },
  {
   "cell_type": "code",
   "execution_count": null,
   "metadata": {
    "_uuid": "aa6c41f404a017054eb3d309dabdf48bc8822cef",
    "colab": {},
    "colab_type": "code",
    "id": "ubXKjfti9zfq"
   },
   "outputs": [],
   "source": [
    "batch_size=128\n",
    "epochs=50\n",
    "\n",
    "from keras.callbacks import ReduceLROnPlateau\n",
    "red_lr= ReduceLROnPlateau(monitor='val_acc',patience=3,verbose=1,factor=0.1)"
   ]
  },
  {
   "cell_type": "markdown",
   "metadata": {
    "_uuid": "e266b7ed910717ee2d68391b59e4bcde6f930e5c"
   },
   "source": [
    "## 3.3 ) Data Augmentation to prevent Overfitting"
   ]
  },
  {
   "cell_type": "code",
   "execution_count": null,
   "metadata": {
    "_uuid": "358f41a7c04bd65219782b439c9f073c1668af7b",
    "colab": {},
    "colab_type": "code",
    "id": "F5YP1q3wc6Ck"
   },
   "outputs": [],
   "source": [
    "datagen = ImageDataGenerator(\n",
    "        featurewise_center=False,  # set input mean to 0 over the dataset\n",
    "        samplewise_center=False,  # set each sample mean to 0\n",
    "        featurewise_std_normalization=False,  # divide inputs by std of the dataset\n",
    "        samplewise_std_normalization=False,  # divide each input by its std\n",
    "        zca_whitening=False,  # apply ZCA whitening\n",
    "        rotation_range=10,  # randomly rotate images in the range (degrees, 0 to 180)\n",
    "        zoom_range = 0.1, # Randomly zoom image \n",
    "        width_shift_range=0.2,  # randomly shift images horizontally (fraction of total width)\n",
    "        height_shift_range=0.2,  # randomly shift images vertically (fraction of total height)\n",
    "        horizontal_flip=True,  # randomly flip images\n",
    "        vertical_flip=False)  # randomly flip images\n",
    "\n",
    "\n",
    "datagen.fit(x_train)"
   ]
  },
  {
   "cell_type": "markdown",
   "metadata": {
    "_uuid": "6f8e6bf822742f85e1733a7de806d738f7453a34"
   },
   "source": [
    "## 3.4 ) Compiling the Keras Model & Summary"
   ]
  },
  {
   "cell_type": "code",
   "execution_count": null,
   "metadata": {
    "_uuid": "172eb8e295a26fb76f338814798c73568456fd7f",
    "colab": {},
    "colab_type": "code",
    "id": "d3TzLswd9zft"
   },
   "outputs": [],
   "source": [
    "model.compile(optimizer=Adam(lr=0.001),loss='categorical_crossentropy',metrics=['accuracy'])"
   ]
  },
  {
   "cell_type": "code",
   "execution_count": null,
   "metadata": {
    "_uuid": "fca74452122226685c34009fa718e0b62d3bdc78",
    "colab": {
     "base_uri": "https://localhost:8080/",
     "height": 544
    },
    "colab_type": "code",
    "id": "-BO2A3xD9zfw",
    "outputId": "0bb66247-b0f5-405b-e98a-b5b1ac58ad85"
   },
   "outputs": [],
   "source": [
    "model.summary()"
   ]
  },
  {
   "cell_type": "markdown",
   "metadata": {
    "_uuid": "5fff9cd1c60d202293ec992d31548eb63604d9ba"
   },
   "source": [
    "## 3.5 ) Fitting on the Training set and making predcitons on the Validation set"
   ]
  },
  {
   "cell_type": "code",
   "execution_count": null,
   "metadata": {
    "_uuid": "2736cb961572eaaa843417199d543b7016ed608a",
    "colab": {
     "base_uri": "https://localhost:8080/",
     "height": 1717
    },
    "colab_type": "code",
    "id": "YNVSuB6P9zf0",
    "outputId": "465a2fe5-64ec-4443-9cd1-a58574c62ab3"
   },
   "outputs": [],
   "source": [
    "History = model.fit_generator(datagen.flow(x_train,y_train, batch_size=batch_size),\n",
    "                              epochs = epochs, validation_data = (x_test,y_test),\n",
    "                              verbose = 1, steps_per_epoch=x_train.shape[0] // batch_size)\n",
    "# model.fit(x_train,y_train,epochs=epochs,batch_size=batch_size,validation_data = (x_test,y_test))"
   ]
  },
  {
   "cell_type": "code",
   "execution_count": null,
   "metadata": {
    "_uuid": "2d6faaa5dbd6b70d73f4469eaeb9e19938194cd4"
   },
   "outputs": [],
   "source": []
  },
  {
   "cell_type": "markdown",
   "metadata": {
    "_uuid": "6e0f2de580cd5eadacda79a06250b3b188987004"
   },
   "source": [
    "<a id=\"content4\"></a>\n",
    "## 4 ) Evaluating the Model Performance"
   ]
  },
  {
   "cell_type": "code",
   "execution_count": null,
   "metadata": {
    "_uuid": "0fddff49b7df1420982bd3a05a63dd38b721e743",
    "colab": {
     "base_uri": "https://localhost:8080/",
     "height": 398
    },
    "colab_type": "code",
    "id": "5zyO2Sdj9zf2",
    "outputId": "2fdeb1ee-3dc6-45de-eba2-6b672e537ab1"
   },
   "outputs": [],
   "source": [
    "plt.plot(History.history['loss'])\n",
    "plt.plot(History.history['val_loss'])\n",
    "plt.title('Model Loss')\n",
    "plt.ylabel('Loss')\n",
    "plt.xlabel('Epochs')\n",
    "plt.legend(['train', 'test'])\n",
    "plt.show()"
   ]
  },
  {
   "cell_type": "code",
   "execution_count": null,
   "metadata": {
    "_uuid": "22dc277aaaeb3f016bfaa19c1abd612442af49e8",
    "colab": {
     "base_uri": "https://localhost:8080/",
     "height": 398
    },
    "colab_type": "code",
    "id": "N-JDEQGkuQgp",
    "outputId": "4ec51c19-4870-4b35-d739-493666ac9589"
   },
   "outputs": [],
   "source": [
    "plt.plot(History.history['acc'])\n",
    "plt.plot(History.history['val_acc'])\n",
    "plt.title('Model Accuracy')\n",
    "plt.ylabel('Accuracy')\n",
    "plt.xlabel('Epochs')\n",
    "plt.legend(['train', 'test'])\n",
    "plt.show()\n"
   ]
  },
  {
   "cell_type": "markdown",
   "metadata": {
    "_uuid": "6102a25c4157ac0376a8afea4e92631a998f643b"
   },
   "source": [
    "<a id=\"content5\"></a>\n",
    "## 5 ) Visualizing Predictons on the Validation Set"
   ]
  },
  {
   "cell_type": "code",
   "execution_count": null,
   "metadata": {
    "_uuid": "b123e1f9cf0c0151324c24e0a85d8152be82f276",
    "colab": {},
    "colab_type": "code",
    "id": "WNENC0T7r2KQ"
   },
   "outputs": [],
   "source": [
    "# getting predictions on val set.\n",
    "pred=model.predict(x_test)\n",
    "pred_digits=np.argmax(pred,axis=1)"
   ]
  },
  {
   "cell_type": "code",
   "execution_count": null,
   "metadata": {
    "_uuid": "598a5ef3b0ef1f19bbd1ee9ce217050bf8326084",
    "colab": {},
    "colab_type": "code",
    "id": "JNHaFfpKuanZ"
   },
   "outputs": [],
   "source": [
    "# now storing some properly as well as misclassified indexes'.\n",
    "i=0\n",
    "prop_class=[]\n",
    "mis_class=[]\n",
    "\n",
    "for i in range(len(y_test)):\n",
    "    if(np.argmax(y_test[i])==pred_digits[i]):\n",
    "        prop_class.append(i)\n",
    "    if(len(prop_class)==8):\n",
    "        break\n",
    "\n",
    "i=0\n",
    "for i in range(len(y_test)):\n",
    "    if(not np.argmax(y_test[i])==pred_digits[i]):\n",
    "        mis_class.append(i)\n",
    "    if(len(mis_class)==8):\n",
    "        break"
   ]
  },
  {
   "cell_type": "markdown",
   "metadata": {
    "_uuid": "f79b8469106478e9b8a8480689c304b2a5ad831d"
   },
   "source": [
    "#### CORRECTLY CLASSIFIED FLOWER IMAGES"
   ]
  },
  {
   "cell_type": "code",
   "execution_count": null,
   "metadata": {
    "_uuid": "4653aef59ea0880863aaf9d1a478cfef1479827b",
    "colab": {
     "base_uri": "https://localhost:8080/",
     "height": 1085
    },
    "colab_type": "code",
    "id": "jZzYLITrsYmy",
    "outputId": "05bbfc80-b7b6-47e5-9289-9ffcc6bc0865"
   },
   "outputs": [],
   "source": [
    "warnings.filterwarnings('always')\n",
    "warnings.filterwarnings('ignore')\n",
    "\n",
    "count=0\n",
    "fig,ax=plt.subplots(4,2)\n",
    "fig.set_size_inches(15,15)\n",
    "for i in range (4):\n",
    "    for j in range (2):\n",
    "        ax[i,j].imshow(x_test[prop_class[count]])\n",
    "        ax[i,j].set_title(\"Predicted Flower : \"+str(le.inverse_transform([pred_digits[prop_class[count]]]))+\"\\n\"+\"Actual Flower : \"+str(le.inverse_transform(np.argmax([y_test[prop_class[count]]]))))\n",
    "        plt.tight_layout()\n",
    "        count+=1"
   ]
  },
  {
   "cell_type": "markdown",
   "metadata": {
    "_uuid": "7dc060c214371876c93b1b4f93e71c91c1ff2384"
   },
   "source": [
    "#### MISCLASSIFIED IMAGES OF FLOWERS"
   ]
  },
  {
   "cell_type": "code",
   "execution_count": null,
   "metadata": {
    "_uuid": "9bf0a02c49d6d8bc6c10830dd3ad9eb08f3e3661",
    "colab": {
     "base_uri": "https://localhost:8080/",
     "height": 1085
    },
    "colab_type": "code",
    "id": "uJDzq5mQtoOy",
    "outputId": "c001b71e-4ca8-43b4-c3ce-187d255d9fc9"
   },
   "outputs": [],
   "source": [
    "warnings.filterwarnings('always')\n",
    "warnings.filterwarnings('ignore')\n",
    "\n",
    "count=0\n",
    "fig,ax=plt.subplots(4,2)\n",
    "fig.set_size_inches(15,15)\n",
    "for i in range (4):\n",
    "    for j in range (2):\n",
    "        ax[i,j].imshow(x_test[mis_class[count]])\n",
    "        ax[i,j].set_title(\"Predicted Flower : \"+str(le.inverse_transform([pred_digits[mis_class[count]]]))+\"\\n\"+\"Actual Flower : \"+str(le.inverse_transform(np.argmax([y_test[mis_class[count]]]))))\n",
    "        plt.tight_layout()\n",
    "        count+=1"
   ]
  },
  {
   "cell_type": "markdown",
   "metadata": {
    "_uuid": "00d8a9f6b329830e46f140c219b607e29af7b3fa",
    "colab": {},
    "colab_type": "code",
    "id": "uCULf9cgy76F"
   },
   "source": []
  },
  {
   "cell_type": "markdown",
   "metadata": {
    "_uuid": "87527d690141efa73cd11a33cac0780b0b4f8374"
   },
   "source": [
    "#  THE END."
   ]
  },
  {
   "cell_type": "markdown",
   "metadata": {
    "_uuid": "a15278f62e9bf140cc8b94dd30c898133b3babcf"
   },
   "source": [
    "## [ Please upvote / star if you liked it. ]"
   ]
  },
  {
   "cell_type": "code",
   "execution_count": null,
   "metadata": {
    "_uuid": "b8952f9ac2af66841a9c000126de56b44301d3ce"
   },
   "outputs": [],
   "source": []
  }
 ],
 "metadata": {
  "accelerator": "GPU",
  "colab": {
   "collapsed_sections": [],
   "name": "Flower Recognition.ipynb",
   "provenance": [],
   "version": "0.3.2"
  },
  "kernelspec": {
   "display_name": "Python 3",
   "language": "python",
   "name": "python3"
  },
  "language_info": {
   "codemirror_mode": {
    "name": "ipython",
    "version": 3
   },
   "file_extension": ".py",
   "mimetype": "text/x-python",
   "name": "python",
   "nbconvert_exporter": "python",
   "pygments_lexer": "ipython3",
   "version": "3.7.4"
  }
 },
 "nbformat": 4,
 "nbformat_minor": 1
}
