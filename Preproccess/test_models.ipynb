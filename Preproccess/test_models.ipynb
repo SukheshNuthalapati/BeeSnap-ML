{
 "cells": [
  {
   "cell_type": "code",
   "execution_count": 24,
   "metadata": {},
   "outputs": [],
   "source": [
    "import os\n",
    "from tensorflow import keras\n",
    "from tensorflow.keras.preprocessing.image import img_to_array\n",
    "import cv2\n",
    "import numpy as np\n",
    "from tensorflow.keras.preprocessing import image"
   ]
  },
  {
   "cell_type": "code",
   "execution_count": 25,
   "metadata": {},
   "outputs": [],
   "source": [
    "# load bee model\n",
    "model_path = \"../bee_model_v0\"\n",
    "loaded_model = keras.models.load_model(model_path)"
   ]
  },
  {
   "cell_type": "code",
   "execution_count": 26,
   "metadata": {},
   "outputs": [],
   "source": [
    "def classify(img_path, saved_model, class_names):\n",
    "    # Preprocess image\n",
    "    IMG_SIZE = 150\n",
    "    img = cv2.imread(img_path, cv2.IMREAD_COLOR)\n",
    "    img = cv2.resize(img, (IMG_SIZE, IMG_SIZE))\n",
    "    img = cv2.GaussianBlur(img, (5, 5), 0)\n",
    "    img = img.astype(\"float\") / 255.0\n",
    "    img_array = image.img_to_array(img)\n",
    "    img_batch = np.expand_dims(img_array, axis=0)\n",
    "    \n",
    "    prediction = saved_model.predict(img_batch)\n",
    "    # print(prediction)\n",
    "    print(class_names[np.argmax(prediction)] + '(' + str(round(100*np.max(prediction), 2)) + '%)')"
   ]
  },
  {
   "cell_type": "code",
   "execution_count": 27,
   "metadata": {},
   "outputs": [],
   "source": [
    "class_names = ['Blueberry Bee', 'Bumblebee', 'Carpenter Bee', 'Honey Bee',\n",
    "               'Mason Bee', 'Mining Bee', 'Western Honey Bee']"
   ]
  },
  {
   "cell_type": "code",
   "execution_count": 28,
   "metadata": {},
   "outputs": [
    {
     "name": "stdout",
     "output_type": "stream",
     "text": [
      "Honey Bee(97.98%)\n"
     ]
    }
   ],
   "source": [
    "classify('../test_images/honey_bee_1.jpg', loaded_model, class_names)"
   ]
  },
  {
   "cell_type": "code",
   "execution_count": 29,
   "metadata": {},
   "outputs": [
    {
     "name": "stdout",
     "output_type": "stream",
     "text": [
      "Carpenter Bee(57.64%)\n"
     ]
    }
   ],
   "source": [
    "classify('../test_images/carpenter_bee_1.jpg', loaded_model, class_names)"
   ]
  },
  {
   "cell_type": "code",
   "execution_count": 30,
   "metadata": {
    "scrolled": true
   },
   "outputs": [
    {
     "name": "stdout",
     "output_type": "stream",
     "text": [
      "Mining Bee(67.76%)\n"
     ]
    }
   ],
   "source": [
    "classify('../test_images/western_honey_bee_1.jpg', loaded_model, class_names)"
   ]
  },
  {
   "cell_type": "code",
   "execution_count": 31,
   "metadata": {},
   "outputs": [
    {
     "name": "stdout",
     "output_type": "stream",
     "text": [
      "Mining Bee(99.98%)\n"
     ]
    }
   ],
   "source": [
    "classify('../test_images/mason_bee_1.jpg', loaded_model, class_names)"
   ]
  },
  {
   "cell_type": "code",
   "execution_count": null,
   "metadata": {},
   "outputs": [],
   "source": []
  }
 ],
 "metadata": {
  "kernelspec": {
   "display_name": "Python 3",
   "language": "python",
   "name": "python3"
  },
  "language_info": {
   "codemirror_mode": {
    "name": "ipython",
    "version": 3
   },
   "file_extension": ".py",
   "mimetype": "text/x-python",
   "name": "python",
   "nbconvert_exporter": "python",
   "pygments_lexer": "ipython3",
   "version": "3.8.5"
  }
 },
 "nbformat": 4,
 "nbformat_minor": 4
}
