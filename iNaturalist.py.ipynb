{
 "cells": [
  {
   "cell_type": "code",
   "execution_count": 1,
   "metadata": {},
   "outputs": [],
   "source": [
    "from pyinaturalist.rest_api import get_access_token\n",
    "from pyinaturalist.node_api import get_all_observations\n",
    "from pyinaturalist.rest_api import create_observations\n",
    "from pyinaturalist.rest_api import add_photo_to_observation\n",
    "from pyinaturalist.rest_api import update_observation\n",
    "from pyinaturalist.rest_api import get_all_observation_fields\n",
    "from pyinaturalist.rest_api import put_observation_field_values"
   ]
  },
  {
   "cell_type": "code",
   "execution_count": 5,
   "metadata": {},
   "outputs": [],
   "source": [
    "lineList = [line.rstrip('\\n') for line in open(\"naturalistSecrets.txt\")]\n",
    "\n",
    "user = lineList[0]\n",
    "pword = lineList[1]\n",
    "app_id = lineList[2]\n",
    "app_secret = lineList[3]\n"
   ]
  },
  {
   "cell_type": "code",
   "execution_count": 7,
   "metadata": {},
   "outputs": [],
   "source": [
    "token = get_access_token(username=user, password=pword,\n",
    "                         app_id=app_id,\n",
    "                         app_secret=app_secret)"
   ]
  },
  {
   "cell_type": "code",
   "execution_count": 8,
   "metadata": {},
   "outputs": [],
   "source": [
    "r = get_all_observation_fields(search_query=\"Rose\")"
   ]
  },
  {
   "cell_type": "code",
   "execution_count": 9,
   "metadata": {},
   "outputs": [
    {
     "name": "stdout",
     "output_type": "stream",
     "text": [
      "[{'id': 10887, 'name': 'Ariel-Rose Emerson2', 'datatype': 'text', 'user_id': 2210699, 'description': '', 'created_at': '2019-09-04T04:38:02.937Z', 'updated_at': '2019-09-04T04:38:02.937Z', 'allowed_values': '', 'values_count': None, 'users_count': None, 'uuid': 'b14b006d-dda3-4ec4-a454-5cec5f228b48'}, {'id': 11474, 'name': 'Rosecomb', 'datatype': 'text', 'user_id': 1017779, 'description': 'Presence of rosecomb growth on mushroom cap.', 'created_at': '2020-02-05T17:52:42.179Z', 'updated_at': '2020-02-05T18:39:23.915Z', 'allowed_values': 'yes|no', 'values_count': 2, 'users_count': 1, 'uuid': 'e5071bf5-8c60-44bd-bcd8-721dcad58795'}, {'id': 9853, 'name': 'Wild Rose suckering', 'datatype': 'text', 'user_id': 941134, 'description': '', 'created_at': '2018-11-26T03:36:28.212Z', 'updated_at': '2018-11-26T03:37:22.156Z', 'allowed_values': 'https://www.inaturalist.org/observations/16023373|○', 'values_count': 1, 'users_count': 1, 'uuid': 'faae36a1-8dff-4c42-b9e1-decc5c1a1fa9'}, {'id': 10397, 'name': 'Rose', 'datatype': 'text', 'user_id': 1665283, 'description': '', 'created_at': '2019-04-25T21:45:11.049Z', 'updated_at': '2020-01-16T23:20:05.002Z', 'allowed_values': '', 'values_count': 1, 'users_count': 1, 'uuid': 'c6515eff-3220-4335-b4be-b30100f5f6e8'}, {'id': 10234, 'name': 'Calystegia silvatica x sepium roseata', 'datatype': 'text', 'user_id': 941134, 'description': '', 'created_at': '2019-03-29T22:57:29.263Z', 'updated_at': '2019-04-01T06:44:30.506Z', 'allowed_values': 'maybe|yes', 'values_count': 6, 'users_count': 1, 'uuid': '00dbe758-830b-4d5a-aba3-0aa94c072921'}, {'id': 11187, 'name': 'Calystegia sepium roseata', 'datatype': 'text', 'user_id': 941134, 'description': 'Habit and possible hybridization of an occurrence covering c. 20m x 20m', 'created_at': '2019-12-23T20:17:30.473Z', 'updated_at': '2020-01-18T05:41:11.639Z', 'allowed_values': 'Raingarden|elsewhere', 'values_count': 28, 'users_count': 1, 'uuid': '235c0ba1-e028-4dd3-b818-c7a9fbeb3872'}]\n"
     ]
    }
   ],
   "source": [
    "print(r)"
   ]
  },
  {
   "cell_type": "code",
   "execution_count": null,
   "metadata": {},
   "outputs": [],
   "source": []
  }
 ],
 "metadata": {
  "kernelspec": {
   "display_name": "Python 3",
   "language": "python",
   "name": "python3"
  },
  "language_info": {
   "codemirror_mode": {
    "name": "ipython",
    "version": 3
   },
   "file_extension": ".py",
   "mimetype": "text/x-python",
   "name": "python",
   "nbconvert_exporter": "python",
   "pygments_lexer": "ipython3",
   "version": "3.7.3"
  }
 },
 "nbformat": 4,
 "nbformat_minor": 2
}
