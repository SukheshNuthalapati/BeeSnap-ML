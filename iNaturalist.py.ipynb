{
 "cells": [
  {
   "cell_type": "code",
   "execution_count": 7,
   "metadata": {},
   "outputs": [],
   "source": [
    "from pyinaturalist.rest_api import get_access_token\n",
    "from pyinaturalist.node_api import get_all_observations\n",
    "from pyinaturalist.rest_api import create_observations\n",
    "from pyinaturalist.rest_api import add_photo_to_observation\n",
    "from pyinaturalist.rest_api import update_observation\n",
    "from pyinaturalist.rest_api import get_all_observation_fields\n",
    "from pyinaturalist.rest_api import put_observation_field_values"
   ]
  },
  {
   "cell_type": "code",
   "execution_count": 8,
   "metadata": {},
   "outputs": [],
   "source": [
    "lineList = [line.rstrip('\\n') for line in open(\"naturalistSecrets.txt\")]\n",
    "\n",
    "user = lineList[0]\n",
    "pword = lineList[1]\n",
    "app_id = lineList[2]\n",
    "app_secret = lineList[3]\n"
   ]
  },
  {
   "cell_type": "code",
   "execution_count": 9,
   "metadata": {},
   "outputs": [],
   "source": [
    "token = get_access_token(username=user, password=pword,\n",
    "                         app_id=app_id,\n",
    "                         app_secret=app_secret)"
   ]
  },
  {
   "cell_type": "code",
   "execution_count": 14,
   "metadata": {},
   "outputs": [],
   "source": [
    "r = get_all_observation_fields(search_query=\"Daisy\")"
   ]
  },
  {
   "cell_type": "code",
   "execution_count": 15,
   "metadata": {},
   "outputs": [
    {
     "name": "stdout",
     "output_type": "stream",
     "text": [
      "[{'id': 7566, 'name': 'Girl Scout level (Daisy|Brownie|Junior|Cadette|Ambassador|Senior|Adult|Lifetime)', 'datatype': 'text', 'user_id': 686992, 'description': 'If Girl Scout member, level member is.', 'created_at': '2017-10-28T20:22:25.796Z', 'updated_at': '2017-10-28T20:22:25.796Z', 'allowed_values': 'Daisy|Brownie|Junior|Cadette|Ambassador|Senior|Adult|Lifetime', 'values_count': None, 'users_count': None, 'uuid': 'bff33be0-80e1-4189-bccc-8f9decb7b7ea'}, {'id': 10206, 'name': 'Mexican daisy', 'datatype': 'text', 'user_id': 941134, 'description': 'Invasion of streambanks in regen forest', 'created_at': '2019-03-21T21:30:58.287Z', 'updated_at': '2019-03-22T21:47:45.836Z', 'allowed_values': '1997-2000|post 1997-1999', 'values_count': 3, 'users_count': 1, 'uuid': 'abb72fe6-a3c6-4191-a0c1-90b7d02cb3e5'}]\n"
     ]
    }
   ],
   "source": [
    "print(r)"
   ]
  },
  {
   "cell_type": "code",
   "execution_count": null,
   "metadata": {},
   "outputs": [],
   "source": []
  }
 ],
 "metadata": {
  "kernelspec": {
   "display_name": "Python 3",
   "language": "python",
   "name": "python3"
  },
  "language_info": {
   "codemirror_mode": {
    "name": "ipython",
    "version": 3
   },
   "file_extension": ".py",
   "mimetype": "text/x-python",
   "name": "python",
   "nbconvert_exporter": "python",
   "pygments_lexer": "ipython3",
   "version": "3.7.3"
  }
 },
 "nbformat": 4,
 "nbformat_minor": 2
}
